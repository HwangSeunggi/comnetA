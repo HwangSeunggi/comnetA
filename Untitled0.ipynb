{
  "nbformat": 4,
  "nbformat_minor": 0,
  "metadata": {
    "colab": {
      "name": "Untitled0.ipynb",
      "provenance": [],
      "authorship_tag": "ABX9TyMR5MVkmHPid5/VQYZYUfgL",
      "include_colab_link": true
    },
    "kernelspec": {
      "name": "python3",
      "display_name": "Python 3"
    },
    "language_info": {
      "name": "python"
    }
  },
  "cells": [
    {
      "cell_type": "markdown",
      "metadata": {
        "id": "view-in-github",
        "colab_type": "text"
      },
      "source": [
        "<a href=\"https://colab.research.google.com/github/HwangSeunggi/comnetA/blob/main/Untitled0.ipynb\" target=\"_parent\"><img src=\"https://colab.research.google.com/assets/colab-badge.svg\" alt=\"Open In Colab\"/></a>"
      ]
    },
    {
      "cell_type": "markdown",
      "metadata": {
        "id": "vXWV4VZP_61R"
      },
      "source": [
        "# **학습목표**\n",
        "\n",
        "1. 함수의 이해\n",
        "2. 함수 구현 및 사용 숙지"
      ]
    },
    {
      "cell_type": "markdown",
      "metadata": {
        "id": "e0PNOXbBAJQp"
      },
      "source": [
        "# **함수**\n",
        "- 예를 들어 range 함수\n",
        "- 함수는 주어진 입력(input)에 대해 어떤기능을 수행해서 출력(output)을 전달하는 역할\n",
        "\n",
        "\n",
        "\n",
        "\n",
        "> rangeI() 정수를 입력으로 전달하면 [0.점수]까지 이루어진 리스트를 생성하는 역할을 해준다.\n",
        "\n",
        "- 이 함수를 들은 python 내부에 정의(구현)되어 있다. `내장훔수(built-in funct ion)`"
      ]
    },
    {
      "cell_type": "code",
      "metadata": {
        "id": "OcphK0wxB0Ti"
      },
      "source": [
        "#내장함수의 예\n",
        "a = [1,2,3,5,3,2,4,56,2,4,3,4]\n",
        "l = len\n",
        "print(l)\n",
        "\n",
        "plus = sum(a)\n",
        "print(plus)"
      ],
      "execution_count": null,
      "outputs": []
    },
    {
      "cell_type": "markdown",
      "metadata": {
        "id": "1JguRX_fDLny"
      },
      "source": [
        "### **함수의 정의**\n",
        "\n",
        "- def 라는 키워드를 사용(definition)\n",
        "- (argument, parameter)매개변수 : 함수에 입력으로 전달하는 값\n",
        "- 함수의 내용부분\n",
        " - 함수를 호출한 후 원하는 기능 수행, 완료된 값을 return으로 출력\n",
        "\n",
        "- 중요한 건 함수의 네이밍\n",
        " - 어떤 기능을 하는 함수인지 이름으로 나타날 수 있게 해야함\n",
        "\n",
        " - a(X), student_name(o)"
      ]
    },
    {
      "cell_type": "code",
      "metadata": {
        "colab": {
          "base_uri": "https://localhost:8080/"
        },
        "id": "cMXP8eiwRDmu",
        "outputId": "cd557710-c6e0-4be2-d121-8e49c31d7a7f"
      },
      "source": [
        "def add(a,b):\n",
        "  n = a + b\n",
        "  return n\n",
        "\n",
        "def minus(a,b):\n",
        "  n = a - b\n",
        "  return n\n",
        "\n",
        "def mul(a,b):\n",
        "  n = a*b\n",
        "  return n\n",
        "\n",
        "x = add(100,200)\n",
        "y = add(200,400)\n",
        "z = add(300,500)\n",
        "\n",
        "print(x,y,z)"
      ],
      "execution_count": 5,
      "outputs": [
        {
          "output_type": "stream",
          "name": "stdout",
          "text": [
            "300 600 800\n"
          ]
        }
      ]
    }
  ]
}