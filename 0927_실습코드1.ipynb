{
  "nbformat": 4,
  "nbformat_minor": 0,
  "metadata": {
    "colab": {
      "name": "0927_실습코드1.ipynb",
      "provenance": [],
      "authorship_tag": "ABX9TyNi6snYn7ahwoXe0ExBBmFu",
      "include_colab_link": true
    },
    "kernelspec": {
      "name": "python3",
      "display_name": "Python 3"
    },
    "language_info": {
      "name": "python"
    }
  },
  "cells": [
    {
      "cell_type": "markdown",
      "metadata": {
        "id": "view-in-github",
        "colab_type": "text"
      },
      "source": [
        "<a href=\"https://colab.research.google.com/github/HwangSeunggi/comnetA/blob/main/0927_%EC%8B%A4%EC%8A%B5%EC%BD%94%EB%93%9C1.ipynb\" target=\"_parent\"><img src=\"https://colab.research.google.com/assets/colab-badge.svg\" alt=\"Open In Colab\"/></a>"
      ]
    },
    {
      "cell_type": "code",
      "metadata": {
        "id": "CW66Nrpadgmw"
      },
      "source": [
        "# 1. 두 줄에 걸쳐 \"강한친구 대한육군\"을 한 줄에 한 번씩 출력한다.\n",
        "print(\"강한친구 대한육군\")\n",
        "print(\"강한친구 대한육군\")"
      ],
      "execution_count": null,
      "outputs": []
    },
    {
      "cell_type": "code",
      "metadata": {
        "colab": {
          "base_uri": "https://localhost:8080/"
        },
        "id": "0eOTTBcrhqhx",
        "outputId": "79ba00f1-21fd-486a-e6ec-e1003ab53fbd"
      },
      "source": [
        "# 2. (BOJ1001) en wjdtn A와 B를 입력받은 다음\n",
        "# A-B를 출력하는 프로그램을 작성하시오.\n",
        "\n",
        "a, b = input().split()\n",
        "a = int(a)\n",
        "b = int(b)\n",
        "\n",
        "print(a+b)"
      ],
      "execution_count": null,
      "outputs": [
        {
          "output_type": "stream",
          "name": "stdout",
          "text": [
            "7 6\n",
            "13\n"
          ]
        }
      ]
    },
    {
      "cell_type": "code",
      "metadata": {
        "colab": {
          "base_uri": "https://localhost:8080/"
        },
        "id": "v6YWgHe_kNbO",
        "outputId": "ce016754-b6a4-452c-99cc-21ddecd75432"
      },
      "source": [
        "a, b = input().split()\n",
        "\n",
        "a = int(a)\n",
        "b = int(b)\n",
        "\n",
        "print(a+b)\n",
        "print(a-b)\n",
        "print(a*b)\n",
        "print(a//b)\n",
        "print(a%b)"
      ],
      "execution_count": null,
      "outputs": [
        {
          "output_type": "stream",
          "name": "stdout",
          "text": [
            "7 3\n",
            "10\n",
            "4\n",
            "21\n",
            "2\n",
            "1\n"
          ]
        }
      ]
    },
    {
      "cell_type": "code",
      "metadata": {
        "colab": {
          "base_uri": "https://localhost:8080/"
        },
        "id": "jQi3Ob9d52xA",
        "outputId": "d217db98-6199-4f1e-9c35-8e96ff843f22"
      },
      "source": [
        "# 4. (BOJ 9498) **if문** 시험 점수를 입력받아 90 ~ 100점은 A.\n",
        "# 80 ~ 89점은 B. 70 ~ 79점은 C. 60 ~ 69점은 D.\n",
        "# 나머지 점수는 F를 출력하는 프로그램을 작성하시오.\n",
        "\n",
        "\n",
        "score = input()\n",
        "score = int(score)\n",
        "\n",
        "if score>=90 :\n",
        "  print(\"A\")\n",
        "elif score>=80 :\n",
        "  print(\"B\")\n",
        "elif score>=70 :\n",
        "  print(\"C\")\n",
        "elif score>=60 :\n",
        "  print(\"D\")\n",
        "else :\n",
        "  print(\"F\")"
      ],
      "execution_count": null,
      "outputs": [
        {
          "output_type": "stream",
          "name": "stdout",
          "text": [
            "100\n",
            "A\n"
          ]
        }
      ]
    },
    {
      "cell_type": "code",
      "metadata": {
        "colab": {
          "base_uri": "https://localhost:8080/"
        },
        "id": "kczSfOFd_f3k",
        "outputId": "f28f6a78-fef4-46b6-c2d1-6be9a7e8c583"
      },
      "source": [
        "#5. (BOJ 10950) 두 정수 A와 B를 입력받은 다음.\n",
        "# A+B를 출력하는 프로그램을 작성하시오.\n",
        "\n",
        "t = int(input())\n",
        "\n",
        "for i in range(t):\n",
        "  a,b = input().split()\n",
        "  a = int(a)\n",
        "  b = int(b)\n",
        "  print(a+b)"
      ],
      "execution_count": null,
      "outputs": [
        {
          "output_type": "stream",
          "name": "stdout",
          "text": [
            "3\n",
            "1 2\n",
            "3\n",
            "2 3\n",
            "5\n",
            "4 5\n",
            "9\n"
          ]
        }
      ]
    }
  ]
}