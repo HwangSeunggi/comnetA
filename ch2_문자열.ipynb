{
  "nbformat": 4,
  "nbformat_minor": 0,
  "metadata": {
    "colab": {
      "name": "Untitled1.ipynb",
      "provenance": [],
      "authorship_tag": "ABX9TyM3qLpWA9AU9O5s/nEBovbv",
      "include_colab_link": true
    },
    "kernelspec": {
      "name": "python3",
      "display_name": "Python 3"
    },
    "language_info": {
      "name": "python"
    }
  },
  "cells": [
    {
      "cell_type": "markdown",
      "metadata": {
        "id": "view-in-github",
        "colab_type": "text"
      },
      "source": [
        "<a href=\"https://colab.research.google.com/github/HwangSeunggi/comnetA/blob/main/ch2_%EB%AC%B8%EC%9E%90%EC%97%B4.ipynb\" target=\"_parent\"><img src=\"https://colab.research.google.com/assets/colab-badge.svg\" alt=\"Open In Colab\"/></a>"
      ]
    },
    {
      "cell_type": "markdown",
      "metadata": {
        "id": "5B8oNA65ELV5"
      },
      "source": [
        "## **학습목표**\n",
        "\n",
        "문자열(str)타입을 이해하기"
      ]
    },
    {
      "cell_type": "markdown",
      "metadata": {
        "id": "8X5OpJdpEeTI"
      },
      "source": [
        "## **문자열(String)**\n",
        "- 여러 개의 문자를 순서대로 나열한 것\n",
        "- 문자열은 '(작은 따옴표)' 혹은 \"(큰 따옴표)\" 사이에 문자를 넣어서 생성\n",
        "- 문자열 자체에 \",'가 있는 경우"
      ]
    },
    {
      "cell_type": "code",
      "metadata": {
        "id": "WENhdvNCE6te"
      },
      "source": [
        "a = \"Hello world! \"\n",
        "b = \"Hello World! \"\n",
        "\n",
        "print(a)\n",
        "print(b)"
      ],
      "execution_count": null,
      "outputs": []
    },
    {
      "cell_type": "markdown",
      "metadata": {
        "id": "XVlBMdIiFsiv"
      },
      "source": [
        "### **이스케이프(escape) 문자**\n",
        "\n",
        "- 문자열 내의 문자의 의미를 달리하며 특정한 효과를 준것\n",
        "-Enter,tab\n",
        "- `\\n` 이탤릭체 텍스트:Enter,새로운 줄(다음줄)\n",
        "- `\\t`:top"
      ]
    },
    {
      "cell_type": "code",
      "metadata": {
        "id": "qIGWNxlqHFcD"
      },
      "source": [
        "print(\"안녕하세요. \\n제 이름은 \\t이하영 입니다. \\n작업은 \\1선생님 입니다.\")"
      ],
      "execution_count": null,
      "outputs": []
    },
    {
      "cell_type": "markdown",
      "metadata": {
        "id": "SNscQM2ZHkOZ"
      },
      "source": [
        "## **문자열의 인덱스(index) 및 추출**\n",
        "\n",
        "- 문자열의 각 문자는 순서가 있음 : `인덱스`\n",
        "- 인덱스 표현은 ?[]\n",
        "- 첫번째 문자부터 "
      ]
    },
    {
      "cell_type": "code",
      "metadata": {
        "id": "Rer2dkGgIBwq"
      },
      "source": [
        "a = \"Hello World!\"# 번호는 0번~11번까지, 길이는 12\n",
        "print(a[0], a[4], a[5])"
      ],
      "execution_count": null,
      "outputs": []
    },
    {
      "cell_type": "markdown",
      "metadata": {
        "id": "DVKMMUUuIh3w"
      },
      "source": [
        "### **-1 인덱스**\n",
        "\n",
        "- 다른 언어와 달리 python은 음수의 인덱스를 지원\n",
        "- -1이 가장 마지막 인덱스,-2는 마지막에서 두번째 인덱스"
      ]
    },
    {
      "cell_type": "code",
      "metadata": {
        "id": "PsKki3mPIrl_"
      },
      "source": [
        "#a = \"Hello World!\"\n",
        "\n",
        "print(a[-1], a[-3], a[-12]) #a[12]부터, a[-13]부터는 범위를 벗어나서 에러!"
      ],
      "execution_count": null,
      "outputs": []
    },
    {
      "cell_type": "markdown",
      "metadata": {
        "id": "M3GBaZYEKOlc"
      },
      "source": [
        "####**굵은 텍스트문자열 슬라이싱(slicing)**\n",
        "\n",
        "- 인덱스로 추출할 때는 한글자만 추출한다면 \n",
        "- [시작:끝]과 같이 명시하여 해당 부분을 문자을 추출\n",
        "- 시작이나 끝이 생략되어 있다면,0부터 혹은 끝까지로 간주해 추출"
      ]
    },
    {
      "cell_type": "code",
      "metadata": {
        "id": "D5-mdBXQKpGE"
      },
      "source": [
        "#a = \"Hello World!\"\n",
        "\n",
        "print(a[3:10])\n",
        "print(a[:10])\n",
        "print(a[3:])\n",
        "print(a[:])"
      ],
      "execution_count": null,
      "outputs": []
    },
    {
      "cell_type": "markdown",
      "metadata": {
        "id": "QYSSEHHQK7r0"
      },
      "source": [
        "#### **문자열 내장 함수**\n",
        "- 문자열에 여러가지 기능을 제공"
      ]
    },
    {
      "cell_type": "code",
      "metadata": {
        "id": "UHP0CFqtLNVb"
      },
      "source": [
        "#a = \"Hello World!\"\\\n",
        "print(a.upper ())\n",
        "print(a.replace('H'm'J))\n",
        "print(a.replace('ello','i'))\n",
        "print(a.len(a))\n",
        "print(a.count('l'))\n",
        "\n",
        "print(a.find())\n",
        "print(a.index('\\''))\n",
        "\n",
        "b= \"!\",join(a)\n",
        "print(b)"
      ],
      "execution_count": null,
      "outputs": []
    },
    {
      "cell_type": "code",
      "metadata": {
        "colab": {
          "base_uri": "https://localhost:8080/",
          "height": 226
        },
        "id": "Ueod4h4WThWE",
        "outputId": "26feb1c1-a1a4-4e32-a6df-1039c8315a94"
      },
      "source": [
        "temp = 27\n",
        "per = 80\n",
        "\n",
        "a='현재 기온은 {}도 이고, 비올 확률은 {}%입니다.'.format(remp.per)\n",
        "print(a)"
      ],
      "execution_count": 3,
      "outputs": [
        {
          "output_type": "error",
          "ename": "NameError",
          "evalue": "ignored",
          "traceback": [
            "\u001b[0;31m---------------------------------------------------------------------------\u001b[0m",
            "\u001b[0;31mNameError\u001b[0m                                 Traceback (most recent call last)",
            "\u001b[0;32m<ipython-input-3-8d3077264d77>\u001b[0m in \u001b[0;36m<module>\u001b[0;34m()\u001b[0m\n\u001b[1;32m      2\u001b[0m \u001b[0mper\u001b[0m \u001b[0;34m=\u001b[0m \u001b[0;36m80\u001b[0m\u001b[0;34m\u001b[0m\u001b[0;34m\u001b[0m\u001b[0m\n\u001b[1;32m      3\u001b[0m \u001b[0;34m\u001b[0m\u001b[0m\n\u001b[0;32m----> 4\u001b[0;31m \u001b[0ma\u001b[0m\u001b[0;34m=\u001b[0m\u001b[0;34m'현재 기온은 {}도 이고, 비올 확률은 {}%입니다.'\u001b[0m\u001b[0;34m.\u001b[0m\u001b[0mformat\u001b[0m\u001b[0;34m(\u001b[0m\u001b[0mremp\u001b[0m\u001b[0;34m.\u001b[0m\u001b[0mper\u001b[0m\u001b[0;34m)\u001b[0m\u001b[0;34m\u001b[0m\u001b[0;34m\u001b[0m\u001b[0m\n\u001b[0m\u001b[1;32m      5\u001b[0m \u001b[0mprint\u001b[0m\u001b[0;34m(\u001b[0m\u001b[0ma\u001b[0m\u001b[0;34m)\u001b[0m\u001b[0;34m\u001b[0m\u001b[0;34m\u001b[0m\u001b[0m\n",
            "\u001b[0;31mNameError\u001b[0m: name 'remp' is not defined"
          ]
        }
      ]
    },
    {
      "cell_type": "markdown",
      "metadata": {
        "id": "8g1YgI3MVZNu"
      },
      "source": [
        "### **split**\n",
        "- 문자열을 특정한 문자로 구분하여 치환"
      ]
    },
    {
      "cell_type": "code",
      "metadata": {
        "id": "Jh_L7u_sVe4G"
      },
      "source": [
        "a = 'what a wonder ful day. nice weaher!'\n",
        "a.split('w')"
      ],
      "execution_count": null,
      "outputs": []
    }
  ]
}