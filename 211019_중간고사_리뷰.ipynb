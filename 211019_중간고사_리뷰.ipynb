{
  "nbformat": 4,
  "nbformat_minor": 0,
  "metadata": {
    "colab": {
      "name": "211019 중간고사 리뷰.ipynb",
      "provenance": [],
      "authorship_tag": "ABX9TyOACl1MDaEWWUsJIQ0Wr3KW",
      "include_colab_link": true
    },
    "kernelspec": {
      "name": "python3",
      "display_name": "Python 3"
    },
    "language_info": {
      "name": "python"
    }
  },
  "cells": [
    {
      "cell_type": "markdown",
      "metadata": {
        "id": "view-in-github",
        "colab_type": "text"
      },
      "source": [
        "<a href=\"https://colab.research.google.com/github/HwangSeunggi/comnetA/blob/main/211019_%EC%A4%91%EA%B0%84%EA%B3%A0%EC%82%AC_%EB%A6%AC%EB%B7%B0.ipynb\" target=\"_parent\"><img src=\"https://colab.research.google.com/assets/colab-badge.svg\" alt=\"Open In Colab\"/></a>"
      ]
    },
    {
      "cell_type": "code",
      "metadata": {
        "id": "suXCkbkP1_TE"
      },
      "source": [
        "#1. 파이썬 변수로 사용할 수 없는 것은?\n",
        "_num = 1\n",
        "num = 2\n",
        "num1 = 3\n",
        "#2num = 4\n",
        "#변수를 선언할 때 맨 앞에 숫자는 올 수 없다!\n",
        "n_um = 5"
      ],
      "execution_count": 1,
      "outputs": []
    },
    {
      "cell_type": "code",
      "metadata": {
        "colab": {
          "base_uri": "https://localhost:8080/"
        },
        "id": "OUHJ84O83Tv3",
        "outputId": "ed0b2fdb-41b9-403a-aafb-abdf33fd61d1"
      },
      "source": [
        "#2. 각 변수에 저ㅈ장된 최종 값은?\n",
        "sum = 0\n",
        "n1 = 10\n",
        "n1 = n1+10\n",
        "n2 = 20\n",
        "sum = n1+n2\n",
        "print(n1, n2, sum)"
      ],
      "execution_count": 2,
      "outputs": [
        {
          "output_type": "stream",
          "name": "stdout",
          "text": [
            "20 20 40\n"
          ]
        }
      ]
    },
    {
      "cell_type": "code",
      "metadata": {
        "colab": {
          "base_uri": "https://localhost:8080/"
        },
        "id": "DxQObN8i4RjO",
        "outputId": "8cf66a91-ce5f-4388-cc64-575965afb0b2"
      },
      "source": [
        "#3. 적절한 연산자 찾기\n",
        "print(17//4)\n",
        "print(17/4)\n",
        "print(17%4)"
      ],
      "execution_count": 3,
      "outputs": [
        {
          "output_type": "stream",
          "name": "stdout",
          "text": [
            "4\n",
            "4.25\n",
            "1\n"
          ]
        }
      ]
    },
    {
      "cell_type": "code",
      "metadata": {
        "colab": {
          "base_uri": "https://localhost:8080/"
        },
        "id": "3ZxMfQSK_H2N",
        "outputId": "d490be11-2b08-4ec5-8f83-fedce430fdf7"
      },
      "source": [
        "#4. 데이터 타입 찾기\n",
        "age = 17\n",
        "st = \"나이\"\n",
        "tu = (17,'나이')\n",
        "print(type(age))\n",
        "print(type(st))\n",
        "print(type(tu))\n",
        "print(type(type(age)))"
      ],
      "execution_count": 6,
      "outputs": [
        {
          "output_type": "stream",
          "name": "stdout",
          "text": [
            "<class 'int'>\n",
            "<class 'str'>\n",
            "<class 'tuple'>\n",
            "<class 'type'>\n"
          ]
        }
      ]
    },
    {
      "cell_type": "code",
      "metadata": {
        "colab": {
          "base_uri": "https://localhost:8080/"
        },
        "id": "RXw26x6x_dgt",
        "outputId": "e9796d49-0f93-4137-bb3d-6debdf3b9dc5"
      },
      "source": [
        "#5. 문자열 인덱싱\n",
        "s = \"Hello Hanyang!\"\n",
        "print(s[5], s[-5])"
      ],
      "execution_count": 8,
      "outputs": [
        {
          "output_type": "stream",
          "name": "stdout",
          "text": [
            "  y\n"
          ]
        }
      ]
    },
    {
      "cell_type": "code",
      "metadata": {
        "colab": {
          "base_uri": "https://localhost:8080/"
        },
        "id": "ZjbbSOAcAPKE",
        "outputId": "c9d8396e-6e6f-4c3b-b023-c02d139c9685"
      },
      "source": [
        "#6.\n",
        "s = \"Hello Hanyang!\"\n",
        "print(s)\n",
        "s = s.upper()\n",
        "print(s)\n",
        "print(s[:8])"
      ],
      "execution_count": 9,
      "outputs": [
        {
          "output_type": "stream",
          "name": "stdout",
          "text": [
            "Hello Hanyang!\n",
            "HELLO HANYANG!\n",
            "HELLO HA\n"
          ]
        }
      ]
    },
    {
      "cell_type": "code",
      "metadata": {
        "id": "f956RAfXBL4z"
      },
      "source": [
        "#7. 여러 데이터를 다루는 파이썬의 자료형\n",
        "# 리스트, 튜플, 딕셔너리, 셋"
      ],
      "execution_count": 10,
      "outputs": []
    },
    {
      "cell_type": "code",
      "metadata": {
        "colab": {
          "base_uri": "https://localhost:8080/"
        },
        "id": "ai57UaqoB0VU",
        "outputId": "91115ce8-5b8e-4b9c-ebd8-b2f014707297"
      },
      "source": [
        "#8-9. 리스트\n",
        "a = ['a', 1, 'python', (1,2), '2', [1,2]]\n",
        "print(a[3])\n",
        "print(1 in a, 2 in a)"
      ],
      "execution_count": 12,
      "outputs": [
        {
          "output_type": "stream",
          "name": "stdout",
          "text": [
            "(1, 2)\n",
            "True False\n"
          ]
        }
      ]
    },
    {
      "cell_type": "code",
      "metadata": {
        "colab": {
          "base_uri": "https://localhost:8080/"
        },
        "id": "U43cnNT0B_4M",
        "outputId": "4639b399-0c3e-411c-e153-75a88431e345"
      },
      "source": [
        "#10. 리스트와 리스트함수\n",
        "nums = list(range(4))\n",
        "print(nums)\n",
        "nums.insert(3,100)\n",
        "print(nums)"
      ],
      "execution_count": 16,
      "outputs": [
        {
          "output_type": "stream",
          "name": "stdout",
          "text": [
            "[0, 1, 2, 3]\n",
            "[0, 1, 2, 100, 3]\n"
          ]
        }
      ]
    },
    {
      "cell_type": "code",
      "metadata": {
        "colab": {
          "base_uri": "https://localhost:8080/"
        },
        "id": "ShfyKKAjDD7k",
        "outputId": "823edbf6-52d8-4142-9dad-95f5775bc3f8"
      },
      "source": [
        "#11. 튜플의 개념\n",
        "a = 100\n",
        "b = 200\n",
        "a, b = b, a\n",
        "\n",
        "print(a, b)"
      ],
      "execution_count": 17,
      "outputs": [
        {
          "output_type": "stream",
          "name": "stdout",
          "text": [
            "200 100\n"
          ]
        }
      ]
    },
    {
      "cell_type": "code",
      "metadata": {
        "colab": {
          "base_uri": "https://localhost:8080/"
        },
        "id": "yuBKzWA8DxQL",
        "outputId": "a69ddd32-b416-4513-d544-20af6ca19369"
      },
      "source": [
        "#12. 딕셔너리\n",
        "a = {'han':1, 1:2, '1':3}\n",
        "a [1] = 'yang'\n",
        "print(a)"
      ],
      "execution_count": 18,
      "outputs": [
        {
          "output_type": "stream",
          "name": "stdout",
          "text": [
            "{'han': 1, 1: 'yang', '1': 3}\n"
          ]
        }
      ]
    },
    {
      "cell_type": "code",
      "metadata": {
        "colab": {
          "base_uri": "https://localhost:8080/"
        },
        "id": "0vpqVJGKEkhD",
        "outputId": "909334f5-6fbe-4a78-9635-08b7f19857b9"
      },
      "source": [
        "#13.셋\n",
        "a = set([1,1,1,1,1,1,1,1,1,2,3])\n",
        "print(a)\n",
        "b = set('hello')\n",
        "print(b)"
      ],
      "execution_count": 19,
      "outputs": [
        {
          "output_type": "stream",
          "name": "stdout",
          "text": [
            "{1, 2, 3}\n",
            "{'o', 'e', 'h', 'l'}\n"
          ]
        }
      ]
    },
    {
      "cell_type": "code",
      "metadata": {
        "colab": {
          "base_uri": "https://localhost:8080/",
          "height": 136
        },
        "id": "0-FslP0RFKx7",
        "outputId": "9942dbf3-a9a7-414e-b570-7f1404bf0bcf"
      },
      "source": [
        "#14~15.\n",
        "\n",
        "\n",
        "room = [[0,0,1,0,9,\n",
        "         [1,0,1,0,1],\n",
        "         [0,1,1,1,9]]]\n",
        "\n",
        "mouse == 1:\n",
        "print(\"cheese\")\n",
        "elif mouse == 9:\n",
        "  print(\"trap\")\n",
        "else:\n",
        "  print(\"nothing\")"
      ],
      "execution_count": 20,
      "outputs": [
        {
          "output_type": "error",
          "ename": "SyntaxError",
          "evalue": "ignored",
          "traceback": [
            "\u001b[0;36m  File \u001b[0;32m\"<ipython-input-20-80b3489d4ac6>\"\u001b[0;36m, line \u001b[0;32m8\u001b[0m\n\u001b[0;31m    mouse == 1:\u001b[0m\n\u001b[0m               ^\u001b[0m\n\u001b[0;31mSyntaxError\u001b[0m\u001b[0;31m:\u001b[0m invalid syntax\n"
          ]
        }
      ]
    },
    {
      "cell_type": "code",
      "metadata": {
        "colab": {
          "base_uri": "https://localhost:8080/"
        },
        "id": "Y3qkSKpDN5Dh",
        "outputId": "7e6b5d69-1bb0-4348-cf8a-5d7b07679b5b"
      },
      "source": [
        "#16~17.\n",
        "\n",
        "a = 0\n",
        "b = 0\n",
        "\n",
        "for i in range(3,9):\n",
        "  if i%2 == 0 and i^3 == 0:\n",
        "    continue\n",
        "  elif i%2 == 0:\n",
        "    a += 1\n",
        "  elif i%3 == 0:\n",
        "    b += 1\n",
        "    print(a,b)"
      ],
      "execution_count": 21,
      "outputs": [
        {
          "output_type": "stream",
          "name": "stdout",
          "text": [
            "0 1\n"
          ]
        }
      ]
    },
    {
      "cell_type": "code",
      "metadata": {
        "colab": {
          "base_uri": "https://localhost:8080/"
        },
        "id": "_Mrk7znzOZUJ",
        "outputId": "c09dbcb7-f305-4d1d-8e0f-3d25aba85185"
      },
      "source": [
        "#18~20.\n",
        "print(\"==============민재나라동훈공주===============\")\n",
        "print(\"메뉴\")\n",
        "print(\"1.햄버거(300원) 2.피자(500원) 3.치킨(700원)\")\n",
        "print(\"=============================================\")\n",
        "\n",
        "money = int(input(\"투입 금액: \"))\n",
        "menu = int(input(\"메뉴 번호: \"))\n",
        "\n",
        "if menu == 1:\n",
        "  money -= 300\n",
        "elif menu == 2:\n",
        "  money -= 500\n",
        "elif menu ==3:\n",
        "  money -= 700\n",
        "\n",
        "if money<0:\n",
        "  print(\"오류: 잔액이 부족합니다!\")\n",
        "else:\n",
        "  won10000 = money // 10000\n",
        "  won5000 = (money%10000)//5000\n",
        "  won1000 = (money%5000)//1000\n",
        "  won500 = (money%1000)//500\n",
        "  won100 = (money%500)//100\n",
        "\n",
        "  print(\"거스름돈:만원 {}개\".format(won10000))\n",
        "  print(\"거스름돈:오천원 {}개\".format(won5000))\n",
        "  print(\"거스름돈:천원 {}개\".format(won1000))\n",
        "  print(\"거스름돈:오백원 {}개\".format(won500))\n",
        "  print(\"거스름돈:백원 {}개\".format(won100))"
      ],
      "execution_count": 41,
      "outputs": [
        {
          "output_type": "stream",
          "name": "stdout",
          "text": [
            "==============민재나라동훈공주===============\n",
            "메뉴\n",
            "1.햄버거(300원) 2.피자(500원) 3.치킨(700원)\n",
            "=============================================\n",
            "투입 금액: 500000\n",
            "메뉴 번호: 2\n",
            "거스름돈:만원 49개\n",
            "거스름돈:오천원 1개\n",
            "거스름돈:천원 4개\n",
            "거스름돈:오백원 1개\n",
            "거스름돈:백원 0개\n"
          ]
        }
      ]
    },
    {
      "cell_type": "code",
      "metadata": {
        "id": "q7pXkne4SzUw"
      },
      "source": [
        ""
      ],
      "execution_count": null,
      "outputs": []
    }
  ]
}