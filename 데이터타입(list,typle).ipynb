{
  "nbformat": 4,
  "nbformat_minor": 0,
  "metadata": {
    "colab": {
      "name": "Untitled4.ipynb",
      "provenance": [],
      "authorship_tag": "ABX9TyODu/oTq0GzVjyqS16eh1bU",
      "include_colab_link": true
    },
    "kernelspec": {
      "name": "python3",
      "display_name": "Python 3"
    },
    "language_info": {
      "name": "python"
    }
  },
  "cells": [
    {
      "cell_type": "markdown",
      "metadata": {
        "id": "view-in-github",
        "colab_type": "text"
      },
      "source": [
        "<a href=\"https://colab.research.google.com/github/HwangSeunggi/comnetA/blob/main/%EB%8D%B0%EC%9D%B4%ED%84%B0%ED%83%80%EC%9E%85(list%2Ctyple).ipynb\" target=\"_parent\"><img src=\"https://colab.research.google.com/assets/colab-badge.svg\" alt=\"Open In Colab\"/></a>"
      ]
    },
    {
      "cell_type": "markdown",
      "metadata": {
        "id": "TDjQxa6s8r6X"
      },
      "source": [
        "## **학습목표**\n",
        "- 리스트(list)와 튜플(tuple)에 대해 이해하기\n",
        "- 딕셔너리(dict)와 셋(set)에 대해 이해하기"
      ]
    },
    {
      "cell_type": "markdown",
      "metadata": {
        "id": "CyRhqqct87p6"
      },
      "source": [
        "### **리스트(list)와 튜플(tuple)**\n",
        "\n",
        "- 여러 개의 값을 담을 수 있는 데이터 구조\n",
        "- list : 생선한 후에 변경이 가능\n",
        "- tuple : 생성한 후 변경 불가능"
      ]
    },
    {
      "cell_type": "code",
      "metadata": {
        "id": "YfyduTf-9kOQ"
      },
      "source": [
        "a = [] #[]안에 값을 담아서 생성\n",
        "print(a)"
      ],
      "execution_count": null,
      "outputs": []
    },
    {
      "cell_type": "code",
      "metadata": {
        "id": "DSUIRsku9w0Q"
      },
      "source": [
        "a = ['컴네', 'A', '1학년', 10,20 [2,3]]\n",
        "print(a)"
      ],
      "execution_count": null,
      "outputs": []
    },
    {
      "cell_type": "code",
      "metadata": {
        "id": "fg3aAM6I-JwX"
      },
      "source": [
        "a = \"helllo comnet A!\"\n",
        "b = list(a) #list()함수로 리스트 생성\n",
        "#다른 타입(문자열)을 리스트로 변환할 때 사용 가능\n",
        "\n",
        "c = a.split() # 문자열의 공백 기준으로 리스트를 생성\n",
        "b = a.split('l') #문자열의 공백을 기준으로 리스트를 생성\n",
        "\n",
        "print(b)\n",
        "print(c)\n",
        "print(d)"
      ],
      "execution_count": null,
      "outputs": []
    },
    {
      "cell_type": "markdown",
      "metadata": {
        "id": "YM1CjZNs_2i4"
      },
      "source": [
        "### **리스트 indexting**\n",
        "\n",
        "- [] 연산자를 이용해 항목을 가져온다.\n",
        "- [i] : i번째 원소를 반환한다"
      ]
    },
    {
      "cell_type": "code",
      "metadata": {
        "colab": {
          "base_uri": "https://localhost:8080/",
          "height": 136
        },
        "id": "7EX3UuRUAiYu",
        "outputId": "4dd3cf54-4877-48a8-876b-dd7938f4e952"
      },
      "source": [
        "a = [1, 2, 3, 4, 5, 6, 7, 8, 9, 10]\n",
        "print(a[0]. a[2])\n",
        "print(a]-1], a[-3], a[-10])\n",
        "print(a[10])"
      ],
      "execution_count": 3,
      "outputs": [
        {
          "output_type": "error",
          "ename": "SyntaxError",
          "evalue": "ignored",
          "traceback": [
            "\u001b[0;36m  File \u001b[0;32m\"<ipython-input-3-db1911547d11>\"\u001b[0;36m, line \u001b[0;32m3\u001b[0m\n\u001b[0;31m    print(a]-1], a[-3], a[-10])\u001b[0m\n\u001b[0m           ^\u001b[0m\n\u001b[0;31mSyntaxError\u001b[0m\u001b[0;31m:\u001b[0m invalid syntax\n"
          ]
        }
      ]
    },
    {
      "cell_type": "code",
      "metadata": {
        "id": "qvMmyJdyBpMv"
      },
      "source": [
        "#인덱스 전급 후 값을 업데이트\n",
        "a = \"hello comnet A!\"\n",
        "b = a.replace('l','w')\n",
        "c = 'j' +a[1:]\n",
        "pritn(b)\n",
        "print(c)\n",
        "\n",
        "a = [1,2,3,4,5,6,7,8,9,10]\n",
        "a[0] = 100\n",
        "a[-1] = 90\n",
        "pritn(a)"
      ],
      "execution_count": null,
      "outputs": []
    },
    {
      "cell_type": "markdown",
      "metadata": {
        "id": "FnABPE95N--d"
      },
      "source": [
        "### **리스트 slictong**\n",
        "- 슬라이싱 결과 리스트"
      ]
    },
    {
      "cell_type": "code",
      "metadata": {
        "id": "o4EEWNS7OIO6"
      },
      "source": [
        "a - [1,2,3,4,5,6,7,8,9,10]\n",
        "#슬라이싱[시작:끝:증가]\n",
        "\n",
        "print(a[3:7])\n",
        "print(a[:7])\n",
        "print(a[3:])\n",
        "print(a[:])\n",
        "print(a[1;7;2])"
      ],
      "execution_count": null,
      "outputs": []
    },
    {
      "cell_type": "markdown",
      "metadata": {
        "id": "ak0FYt-APjdM"
      },
      "source": [
        "### **리스트 멤버 함수**\n",
        "- 생성된 리스트에 동작하는 함수\n",
        "- append() : 리스트 끝에다가 항목을 추가\n",
        "- extend() : 리스트를 연장(+=)\n",
        "\n",
        "- insert() : 원하는 위치에 추가 가능 (위치,아이템)\n",
        "- remove() : 값으로 항목을 삭제\n",
        "- pop() : 지우고자 하는 인덱스의 아이템을 반환 후 삭제\n",
        "- index() : 찾고자하는 값의 인덱스를 변환"
      ]
    },
    {
      "cell_type": "code",
      "metadata": {
        "id": "5fFzsQ32P4BJ"
      },
      "source": [
        "a = [1,2,3,4,5]\n",
        "a.append(10)\n",
        "print(a)\n",
        "\n",
        "b = [11,12,13,14,15]\n",
        "#a.extend(b)\n",
        "a += b #extend로 동작\n",
        "print(a)"
      ],
      "execution_count": null,
      "outputs": []
    },
    {
      "cell_type": "code",
      "metadata": {
        "id": "cO0dU8a6QXwT"
      },
      "source": [
        "a.insert(5, 20)\n",
        "print(a)"
      ],
      "execution_count": null,
      "outputs": []
    },
    {
      "cell_type": "code",
      "metadata": {
        "id": "iJje3SeMRCzT"
      },
      "source": [
        "a.remove(5)\n",
        "print(a)"
      ],
      "execution_count": null,
      "outputs": []
    },
    {
      "cell_type": "code",
      "metadata": {
        "id": "IfNyJEpnSOfZ"
      },
      "source": [
        "a.remove(20)\n",
        "print(a)"
      ],
      "execution_count": null,
      "outputs": []
    },
    {
      "cell_type": "code",
      "metadata": {
        "id": "YgjzeCjCST5x"
      },
      "source": [
        "a = [1, 2, 3, 4, 10, 11, 12, 13, 14, 15]\n",
        "c = a.pop(0)\n",
        "\n",
        "print(a)\n",
        "print(c)"
      ],
      "execution_count": null,
      "outputs": []
    },
    {
      "cell_type": "code",
      "metadata": {
        "id": "GLPaoDlQXKe7"
      },
      "source": [
        "a = [2, 6, 7, 9, 10]\n",
        "a.index(7)"
      ],
      "execution_count": null,
      "outputs": []
    },
    {
      "cell_type": "markdown",
      "metadata": {
        "id": "sVS2Rj1dXajx"
      },
      "source": [
        "### **in 키워드**\n",
        "- 리스트 내에 해당 값이 존재하는지\n",
        "- True, False 중 한가지로 반환\n",
        "- 값 in [list]"
      ]
    },
    {
      "cell_type": "code",
      "metadata": {
        "id": "-616g2WEXtoh"
      },
      "source": [
        "a = [1,2,3,4,5,6,7]\n",
        "b = 5\n",
        "c = 10\n",
        "\n",
        "print(b in a)\n",
        "print(c in a)"
      ],
      "execution_count": null,
      "outputs": []
    },
    {
      "cell_type": "markdown",
      "metadata": {
        "id": "-H5bGXTPYCzx"
      },
      "source": [
        "**list 정렬**\n",
        "- sort() \n",
        "- sorttes() : 정렬된 리스트의 복사본을 반환"
      ]
    },
    {
      "cell_type": "code",
      "metadata": {
        "id": "Iy9LmHXxZtVy"
      },
      "source": [
        "a = [9, 10, 23, 1, 2, 45, 2, 35, 123, 31, 6]\n",
        "b = sorted(a)\n",
        "print(a)\n",
        "\n",
        "a.sort(reverse=True)\n",
        "print(a)\n",
        "print(b)"
      ],
      "execution_count": null,
      "outputs": []
    },
    {
      "cell_type": "markdown",
      "metadata": {
        "id": "ePyL56UOa9Yc"
      },
      "source": [
        "### **튜플(Tuple)**\n",
        "- 리스트와 같이 여러 개의 값을 갖는 데이터 컬렉션 타입\n",
        "- 생성된 후 변경이 불가능"
      ]
    },
    {
      "cell_type": "code",
      "metadata": {
        "id": "j3faS12HbJu4"
      },
      "source": [
        "a = [1,2,3,]\n",
        "b = [1,2,3,]\n",
        "\n",
        "print(type(a))\n",
        "print(type(b))\n",
        "\n",
        "a[0]= 100\n",
        "print(a)\n",
        "#b[0]"
      ],
      "execution_count": null,
      "outputs": []
    },
    {
      "cell_type": "code",
      "metadata": {
        "id": "sAT6djHubo7Y"
      },
      "source": [
        "a,b,c,ed = 10, 20, 30, 40\n",
        "pritn(a,b,c,d)"
      ],
      "execution_count": null,
      "outputs": []
    },
    {
      "cell_type": "code",
      "metadata": {
        "id": "2NRrejyccBMO"
      },
      "source": [
        "a = 5\n",
        "b = 4\n",
        "\n",
        "#문제! a,b의 값을 교환하세요.\n",
        "#temp = a\n",
        "#a = b\n",
        "#b = temp\n",
        "print(a.b)\n",
        "a. b = b. a\n",
        "print(a. b)"
      ],
      "execution_count": null,
      "outputs": []
    }
  ]
}